{
 "cells": [
  {
   "cell_type": "code",
   "execution_count": 1,
   "metadata": {},
   "outputs": [],
   "source": [
    "import joblib\n",
    "import numpy as np\n",
    "import pandas as pd\n",
    "\n",
    "import warnings\n",
    "warnings.filterwarnings(\"ignore\")"
   ]
  },
  {
   "attachments": {},
   "cell_type": "markdown",
   "metadata": {},
   "source": [
    "Refer to the sample data in the repository."
   ]
  },
  {
   "cell_type": "code",
   "execution_count": 2,
   "metadata": {},
   "outputs": [],
   "source": [
    "data = pd.read_csv(\"sample_data.csv\", header=None)"
   ]
  },
  {
   "attachments": {},
   "cell_type": "markdown",
   "metadata": {},
   "source": [
    "Column names and formats in order: \n",
    "\n",
    "Maxillary arch length discrepancy: float\n",
    "\n",
    "Mandibular arch length discrepancy: float\n",
    "\n",
    "Curve of Spee: float\n",
    "\n",
    "Sex (Is Male): True (Male), False (Female)\n",
    "\n",
    "Lip Posture (Is Competent): True (Competent), False (Non-Competent)\n",
    "\n",
    "SNA: float\n",
    "\n",
    "SNB: float\n",
    "\n",
    "ANB: float\n",
    "\n",
    "Wits Appraisal float\n",
    "\n",
    "GoGnSN: float\n",
    "\n",
    "FMA: float\n",
    "\n",
    "Sum of the angles: float\n",
    "\n",
    "ANS-Me: float\n",
    "\n",
    "U1-NA (mm): float\n",
    "\n",
    "U1-NA (angle): float\n",
    "\n",
    "U1-FH: float\n",
    "\n",
    "U1-PP: float\n",
    "\n",
    "L1-NB (mm): float\n",
    "\n",
    "L1-NB (angle): float\n",
    "\n",
    "IMPA: float\n",
    "\n",
    "L1-A-Pg: float\n",
    "\n",
    "Interincisal angle: float\n",
    "\n",
    "Overjet: float\n",
    "\n",
    "Overbite: float\n",
    "\n",
    "Upper lip to E line: float\n",
    "\n",
    "Lower lip to E line: float\n",
    "\n",
    "Z Angle: float\n",
    "\n",
    "Maxillary sulcus depth: float\n",
    "\n",
    "Mandibulary sulcus depth: float\n",
    "\n",
    "Upper lip thickness: float\n",
    "\n",
    "Lower lip thickness: float\n",
    "\n",
    "Nasolabial angle: float\n",
    "\n",
    "Facial convexity angle: float\n",
    "\n",
    "Upper incisor exposure: float\n",
    "\n",
    "Angle’s molar classification Class I: binary (1 or 0)\n",
    "\n",
    "Angle’s molar classification Class II Div I: binary (1 or 0)\n",
    "\n",
    "Angle’s molar classification Class II Div II: binary (1 or 0)\n",
    "\n",
    "Angle’s molar classification Class III: binary (1 or 0)"
   ]
  },
  {
   "cell_type": "code",
   "execution_count": 3,
   "metadata": {},
   "outputs": [
    {
     "data": {
      "text/html": [
       "<div>\n",
       "<style scoped>\n",
       "    .dataframe tbody tr th:only-of-type {\n",
       "        vertical-align: middle;\n",
       "    }\n",
       "\n",
       "    .dataframe tbody tr th {\n",
       "        vertical-align: top;\n",
       "    }\n",
       "\n",
       "    .dataframe thead th {\n",
       "        text-align: right;\n",
       "    }\n",
       "</style>\n",
       "<table border=\"1\" class=\"dataframe\">\n",
       "  <thead>\n",
       "    <tr style=\"text-align: right;\">\n",
       "      <th></th>\n",
       "      <th>0</th>\n",
       "      <th>1</th>\n",
       "      <th>2</th>\n",
       "      <th>3</th>\n",
       "      <th>4</th>\n",
       "      <th>5</th>\n",
       "      <th>6</th>\n",
       "      <th>7</th>\n",
       "      <th>8</th>\n",
       "      <th>9</th>\n",
       "      <th>...</th>\n",
       "      <th>28</th>\n",
       "      <th>29</th>\n",
       "      <th>30</th>\n",
       "      <th>31</th>\n",
       "      <th>32</th>\n",
       "      <th>33</th>\n",
       "      <th>34</th>\n",
       "      <th>35</th>\n",
       "      <th>36</th>\n",
       "      <th>37</th>\n",
       "    </tr>\n",
       "  </thead>\n",
       "  <tbody>\n",
       "    <tr>\n",
       "      <th>0</th>\n",
       "      <td>-0.9</td>\n",
       "      <td>-3.5</td>\n",
       "      <td>2.0</td>\n",
       "      <td>True</td>\n",
       "      <td>True</td>\n",
       "      <td>87.1</td>\n",
       "      <td>78.0</td>\n",
       "      <td>6.9</td>\n",
       "      <td>-0.9</td>\n",
       "      <td>69.6</td>\n",
       "      <td>...</td>\n",
       "      <td>111.1</td>\n",
       "      <td>15.5</td>\n",
       "      <td>11.5</td>\n",
       "      <td>155.2</td>\n",
       "      <td>124.9</td>\n",
       "      <td>2.7</td>\n",
       "      <td>1</td>\n",
       "      <td>0</td>\n",
       "      <td>0</td>\n",
       "      <td>0</td>\n",
       "    </tr>\n",
       "  </tbody>\n",
       "</table>\n",
       "<p>1 rows × 38 columns</p>\n",
       "</div>"
      ],
      "text/plain": [
       "    0    1    2     3     4     5     6    7    8     9   ...     28    29  \\\n",
       "0 -0.9 -3.5  2.0  True  True  87.1  78.0  6.9 -0.9  69.6  ...  111.1  15.5   \n",
       "\n",
       "     30     31     32   33  34  35  36  37  \n",
       "0  11.5  155.2  124.9  2.7   1   0   0   0  \n",
       "\n",
       "[1 rows x 38 columns]"
      ]
     },
     "execution_count": 3,
     "metadata": {},
     "output_type": "execute_result"
    }
   ],
   "source": [
    "data"
   ]
  },
  {
   "attachments": {},
   "cell_type": "markdown",
   "metadata": {},
   "source": [
    "Choose the model type you want to make predictions:\n",
    "\n",
    "**Gradient Boosted Trees**:        \"lgbm\"\n",
    "\n",
    "**Random Forest:**                 \"rf\"\n",
    "\n",
    "**Support Vector Machines:**       \"svm\"\n",
    "\n",
    "**Logistic Regression:**           \"lr\"\n",
    "\n",
    "**Voting Ensemble:**               \"voting\"\n",
    "\n",
    "**Stacking Ensemble:**             \"stacking\"\n"
   ]
  },
  {
   "cell_type": "code",
   "execution_count": 4,
   "metadata": {},
   "outputs": [],
   "source": [
    "model_type = \"lgbm\"\n",
    "\n",
    "models = joblib.load(f\"models/{model_type}/model.pkl\")\n",
    "\n",
    "preds = []\n",
    "for model in models:\n",
    "    preds.append(model.predict(data) if model_type == \"lgbm\" else model.predict_proba(data)[:, 1]) "
   ]
  },
  {
   "attachments": {},
   "cell_type": "markdown",
   "metadata": {},
   "source": [
    "**Extraction probability:**\n",
    "\n",
    "The outputs represent the extraction probabilities for the given data points. The output probabilities over 0.5 (50%) are identified as extraction."
   ]
  },
  {
   "cell_type": "code",
   "execution_count": 5,
   "metadata": {},
   "outputs": [
    {
     "data": {
      "text/plain": [
       "array([0.30734043])"
      ]
     },
     "execution_count": 5,
     "metadata": {},
     "output_type": "execute_result"
    }
   ],
   "source": [
    "np.mean(preds, axis=0)"
   ]
  },
  {
   "cell_type": "code",
   "execution_count": 6,
   "metadata": {},
   "outputs": [
    {
     "data": {
      "text/plain": [
       "array(['Not Extraction'], dtype='<U14')"
      ]
     },
     "execution_count": 6,
     "metadata": {},
     "output_type": "execute_result"
    }
   ],
   "source": [
    "np.vectorize({False: \"Not Extraction\", True: \"Extraction\"}.get)(np.mean(preds, axis=0) > 0.5)"
   ]
  },
  {
   "cell_type": "code",
   "execution_count": null,
   "metadata": {},
   "outputs": [],
   "source": []
  }
 ],
 "metadata": {
  "kernelspec": {
   "display_name": "base",
   "language": "python",
   "name": "python3"
  },
  "language_info": {
   "codemirror_mode": {
    "name": "ipython",
    "version": 3
   },
   "file_extension": ".py",
   "mimetype": "text/x-python",
   "name": "python",
   "nbconvert_exporter": "python",
   "pygments_lexer": "ipython3",
   "version": "3.9.12"
  },
  "orig_nbformat": 4
 },
 "nbformat": 4,
 "nbformat_minor": 2
}
